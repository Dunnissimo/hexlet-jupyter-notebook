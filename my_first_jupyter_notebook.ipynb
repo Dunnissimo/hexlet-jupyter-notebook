{
 "cells": [
  {
   "cell_type": "markdown",
   "id": "3c907224-aee5-43d7-8697-f656e6ee4a4f",
   "metadata": {},
   "source": [
    "### Это начало моего блокнота Юпитер"
   ]
  },
  {
   "cell_type": "code",
   "execution_count": 1,
   "id": "33c360ed-96f3-46ab-a505-4183f7d2561e",
   "metadata": {},
   "outputs": [
    {
     "name": "stdout",
     "output_type": "stream",
     "text": [
      "Hello, World!\n"
     ]
    }
   ],
   "source": [
    "print(\"Hello, World!\")"
   ]
  }
 ],
 "metadata": {
  "kernelspec": {
   "display_name": "Python 3 (ipykernel)",
   "language": "python",
   "name": "python3"
  },
  "language_info": {
   "codemirror_mode": {
    "name": "ipython",
    "version": 3
   },
   "file_extension": ".py",
   "mimetype": "text/x-python",
   "name": "python",
   "nbconvert_exporter": "python",
   "pygments_lexer": "ipython3",
   "version": "3.11.7"
  }
 },
 "nbformat": 4,
 "nbformat_minor": 5
}
